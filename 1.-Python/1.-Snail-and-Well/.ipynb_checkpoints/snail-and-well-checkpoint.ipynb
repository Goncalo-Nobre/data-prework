{
 "cells": [
  {
   "cell_type": "markdown",
   "metadata": {},
   "source": [
    "<img src=\"https://bit.ly/2VnXWr2\" width=\"100\" align=\"left\">"
   ]
  },
  {
   "cell_type": "markdown",
   "metadata": {},
   "source": [
    "# The Snail and the Well\n",
    "\n",
    "A snail falls at the bottom of a 125 cm well. Each day the snail rises 30 cm. But at night, while sleeping, slides 20 cm because the walls are wet. How many days does it take for the snail to escape the well?\n",
    "\n",
    "**Hint**: The snail gets out of the well when it surpasses the 125cm of height.\n",
    "\n",
    "## Tools\n",
    "\n",
    "1. Loop: **while**\n",
    "2. Conditional statements: **if-else**\n",
    "3. Function: **print()**\n",
    "\n",
    "## Tasks\n",
    "\n",
    "#### 1. Assign the challenge data to variables with representative names: `well_height`, `daily_distance`, `nightly_distance` and `snail_position`."
   ]
  },
  {
   "cell_type": "code",
   "execution_count": 2,
   "metadata": {},
   "outputs": [],
   "source": [
    "well_height = 125\n",
    "daily_distance = 30\n",
    "nightly_distance = -20\n",
    "snail_position = 0"
   ]
  },
  {
   "cell_type": "markdown",
   "metadata": {},
   "source": [
    "#### 2. Create a variable `days` to keep count of the days that pass until the snail escapes the well. "
   ]
  },
  {
   "cell_type": "code",
   "execution_count": 3,
   "metadata": {},
   "outputs": [],
   "source": [
    "days = 0"
   ]
  },
  {
   "cell_type": "markdown",
   "metadata": {},
   "source": [
    "#### 3. Find the solution to the challenge using the variables defined above. "
   ]
  },
  {
   "cell_type": "code",
   "execution_count": 6,
   "metadata": {},
   "outputs": [
    {
     "name": "stdout",
     "output_type": "stream",
     "text": [
      "Not there yet\n",
      "Not there yet\n",
      "Not there yet\n",
      "Not there yet\n",
      "Not there yet\n",
      "Not there yet\n",
      "Not there yet\n",
      "Not there yet\n",
      "Not there yet\n",
      "Not there yet\n",
      "Not there yet\n",
      "Not there yet\n"
     ]
    }
   ],
   "source": [
    "while snail_position <= well_height:\n",
    "  if snail_position >= well_height:\n",
    "    print('I arrived!')\n",
    "  else:\n",
    "    snail_position = snail_position + daily_distance + nightly_distance\n",
    "    print('Not there yet')\n",
    "    days = days + 1"
   ]
  },
  {
   "cell_type": "markdown",
   "metadata": {},
   "source": [
    "#### 4. Print the solution."
   ]
  },
  {
   "cell_type": "code",
   "execution_count": 9,
   "metadata": {},
   "outputs": [
    {
     "name": "stdout",
     "output_type": "stream",
     "text": [
      "2665401305\n"
     ]
    }
   ],
   "source": [
    "print(days)\n",
    "#It's suppose to give 13, I don't know why this number appears"
   ]
  },
  {
   "cell_type": "markdown",
   "metadata": {},
   "source": [
    "## Bonus\n",
    "The distance traveled by the snail each day is now defined by a list.\n",
    "```\n",
    "advance_cm = [30, 21, 33, 77, 44, 45, 23, 45, 12, 34, 55]\n",
    "```\n",
    "On the first day, the snail rises 30cm but during the night it slides 20cm. On the second day, the snail rises 21cm but during the night it slides 20cm, and so on. \n",
    "\n",
    "#### 1. How many days does it take for the snail to escape the well?\n",
    "Follow the same guidelines as in the previous challenge.\n",
    "\n",
    "**Hint**: Remember that the snail gets out of the well when it surpasses the 125cm of height."
   ]
  },
  {
   "cell_type": "code",
   "execution_count": 11,
   "metadata": {},
   "outputs": [
    {
     "name": "stdout",
     "output_type": "stream",
     "text": [
      "Almost!\n",
      "Almost!\n",
      "Almost!\n",
      "Almost!\n",
      "Almost!\n",
      "6\n"
     ]
    }
   ],
   "source": [
    "well_height = 125\n",
    "advance_cm = [30, 21, 33, 77, 44, 45, 23, 45, 12, 34, 55]\n",
    "nightly_distance = -20\n",
    "snail_position = 0\n",
    "\n",
    "days = 0\n",
    "\n",
    "for advances in advance_cm:\n",
    "    if snail_position <= well_height:\n",
    "        snail_position = snail_position + advances + nightly_distance\n",
    "        days = days + 1\n",
    "    else:\n",
    "        print('Almost!')\n",
    "print(days)"
   ]
  },
  {
   "cell_type": "markdown",
   "metadata": {},
   "source": [
    "#### 2. What is its maximum displacement in one day? And its minimum? Calculate the displacement using only the travel distance of the days used to get out of the well. \n",
    "**Hint**: Remember that displacement means the total distance risen taking into account that the snail slides at night.  "
   ]
  },
  {
   "cell_type": "code",
   "execution_count": 34,
   "metadata": {},
   "outputs": [
    {
     "name": "stdout",
     "output_type": "stream",
     "text": [
      "57\n",
      "-8\n"
     ]
    }
   ],
   "source": [
    "max_displacement = max(advance_cm) + nightly_distance\n",
    "min_displacement = min(advance_cm) + nightly_distance\n",
    "\n",
    "print(max_displacement)\n",
    "print(min_displacement)\n"
   ]
  },
  {
   "cell_type": "markdown",
   "metadata": {},
   "source": [
    "#### 3. What is its average progress? Take into account the snail slides at night."
   ]
  },
  {
   "cell_type": "code",
   "execution_count": 29,
   "metadata": {},
   "outputs": [
    {
     "name": "stdout",
     "output_type": "stream",
     "text": [
      "36.27272727272727\n",
      "21.666666666666668\n"
     ]
    }
   ],
   "source": [
    "#Average of the all list\n",
    "average_progress = (sum(advance_cm) + nightly_distance)/len(advance_cm)\n",
    "print(average_progress)\n",
    "\n",
    "#Average of the time the snail took arriving to the top\n",
    "for advances in advance_cm:\n",
    "    if snail_position <= well_height:\n",
    "        snail_position = snail_position + advances + nightly_distance\n",
    "        days = days + 1\n",
    "\n",
    "av_progress = snail_position/days\n",
    "print(av_progress)"
   ]
  },
  {
   "cell_type": "markdown",
   "metadata": {},
   "source": [
    "#### 4. What is the standard deviation of its displacement? Take into account the snail slides at night."
   ]
  },
  {
   "cell_type": "code",
   "execution_count": 37,
   "metadata": {},
   "outputs": [
    {
     "name": "stdout",
     "output_type": "stream",
     "text": [
      "1111.1111111111109\n",
      "185.18518518518513\n",
      "13.608276348795432\n"
     ]
    }
   ],
   "source": [
    "for advances in advance_cm:\n",
    "    if snail_position <= well_height:\n",
    "        snail_position = snail_position + advances + nightly_distance\n",
    "        days = days + 1\n",
    "\n",
    "av_progress = snail_position/days\n",
    "\n",
    "diff_squared = (advances - av_progress)**2\n",
    "print(diff_squared)\n",
    "\n",
    "av_diff_squared = diff_squared/ days\n",
    "print(av_diff_squared)\n",
    "\n",
    "stdev = av_diff_squared**0.5\n",
    "print(stdev)"
   ]
  }
 ],
 "metadata": {
  "kernelspec": {
   "display_name": "Python 3",
   "language": "python",
   "name": "python3"
  },
  "language_info": {
   "codemirror_mode": {
    "name": "ipython",
    "version": 3
   },
   "file_extension": ".py",
   "mimetype": "text/x-python",
   "name": "python",
   "nbconvert_exporter": "python",
   "pygments_lexer": "ipython3",
   "version": "3.7.6"
  }
 },
 "nbformat": 4,
 "nbformat_minor": 2
}
