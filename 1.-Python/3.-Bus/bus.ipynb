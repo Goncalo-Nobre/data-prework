{
 "cells": [
  {
   "cell_type": "markdown",
   "metadata": {},
   "source": [
    "<img src=\"https://bit.ly/2VnXWr2\" width=\"100\" align=\"left\">"
   ]
  },
  {
   "cell_type": "markdown",
   "metadata": {},
   "source": [
    "# Bus\n",
    "\n",
    "This bus has a passenger entry and exit control system to monitor the number of occupants it carries and thus detect when there are too many.\n",
    "\n",
    "At each stop, the entry and exit of passengers is represented by a tuple consisting of two integer numbers.\n",
    "```\n",
    "bus_stop = (in, out)\n",
    "```\n",
    "The succession of stops is represented by a list of these tuples.\n",
    "```\n",
    "stops = [(in1, out1), (in2, out2), (in3, out3), (in4, out4)]\n",
    "```\n",
    "\n",
    "## Tools\n",
    "You don't necessarily need to use all the tools. Maybe you opt to use some of them or completely different ones, they are given to help you shape the exercise. Programming exercises can be solved in many different ways.\n",
    "* Data structures: **lists, tuples**\n",
    "* Loop: **while/for loops**\n",
    "* Functions: **min, max, len**\n",
    "\n",
    "## Tasks"
   ]
  },
  {
   "cell_type": "code",
   "execution_count": null,
   "metadata": {},
   "outputs": [],
   "source": [
    "# Variables\n",
    "stops = [(10, 0), (4, 1), (3, 5), (3, 4), (5, 1), (1, 5), (5, 8), (4, 6), (2, 3)]"
   ]
  },
  {
   "cell_type": "markdown",
   "metadata": {},
   "source": [
    "#### 1. Calculate the number of stops."
   ]
  },
  {
   "cell_type": "code",
   "execution_count": 2,
   "metadata": {},
   "outputs": [
    {
     "name": "stdout",
     "output_type": "stream",
     "text": [
      "9\n"
     ]
    }
   ],
   "source": [
    "stops = [(10, 0), (4, 1), (3, 5), (3, 4), (5, 1), (1, 5), (5, 8), (4, 6), (2, 3)]\n",
    "print(len(stops))"
   ]
  },
  {
   "cell_type": "markdown",
   "metadata": {},
   "source": [
    "#### 2. Assign to a variable a list whose elements are the number of passengers at each stop (in-out).\n",
    "Each item depends on the previous item in the list + in - out."
   ]
  },
  {
   "cell_type": "code",
   "execution_count": 3,
   "metadata": {},
   "outputs": [
    {
     "name": "stdout",
     "output_type": "stream",
     "text": [
      "[10, 0, 4, 1, 3, 5, 3, 4, 5, 1, 1, 5, 5, 8, 4, 6, 2, 3]\n",
      "[10, 4, 3, 3, 5, 1, 5, 4, 2]\n",
      "[0, 1, 5, 4, 1, 5, 8, 6, 3]\n",
      "[10, 3, -2, -1, 4, -4, -3, -2, -1]\n",
      "[10, 13, 11, 10, 14, 10, 7, 5, 4]\n"
     ]
    }
   ],
   "source": [
    "\n",
    "list_passenger = []\n",
    "for stop in stops:\n",
    "  for passenger in stop:\n",
    "    list_passenger.append(passenger)\n",
    "print(list_passenger)    \n",
    "\n",
    "number_passengers_in = []\n",
    "number_passengers_out = []\n",
    "index = 0\n",
    "for element in list_passenger:\n",
    "  if index%2 == 0:\n",
    "    number_passengers_in.append(element)\n",
    "    index = index + 1\n",
    "  else:\n",
    "    number_passengers_out.append(element)\n",
    "    index = index + 1\n",
    "\n",
    "print(number_passengers_in)\n",
    "print(number_passengers_out)\n",
    "\n",
    "index2 = 0\n",
    "passengers_stop = []\n",
    "for elements in number_passengers_in:\n",
    "  pass_per_stop = number_passengers_in[index2] - number_passengers_out[index2]\n",
    "  passengers_stop.append(pass_per_stop)\n",
    "  index2 = index2 + 1\n",
    "\n",
    "print(passengers_stop)\n",
    "\n",
    "index3 = 0\n",
    "index4 = 1\n",
    "final_list = [10]\n",
    "while len(final_list) < len(passengers_stop):\n",
    "  total_pass = passengers_stop[index4] + final_list[index3]\n",
    "  final_list.append(total_pass)\n",
    "  index3 = index3 + 1 \n",
    "  index4 = index4 + 1 \n",
    "print(final_list)"
   ]
  },
  {
   "cell_type": "markdown",
   "metadata": {},
   "source": [
    "#### 3. Find the maximum occupation of the bus."
   ]
  },
  {
   "cell_type": "code",
   "execution_count": 4,
   "metadata": {},
   "outputs": [
    {
     "name": "stdout",
     "output_type": "stream",
     "text": [
      "14\n"
     ]
    }
   ],
   "source": [
    "print(max(final_list))"
   ]
  },
  {
   "cell_type": "markdown",
   "metadata": {},
   "source": [
    "#### 4. Calculate the average occupation. And the standard deviation."
   ]
  },
  {
   "cell_type": "code",
   "execution_count": 9,
   "metadata": {},
   "outputs": [
    {
     "name": "stdout",
     "output_type": "stream",
     "text": [
      "9.333333333333334\n",
      "[0.44444444444444364, 13.44444444444444, 2.777777777777776, 0.44444444444444364, 21.77777777777777, 0.44444444444444364, 5.444444444444447, 18.777777777777782, 28.44444444444445]\n",
      "5.111111111111111\n"
     ]
    }
   ],
   "source": [
    "av_occ = sum(final_list)/len(final_list)\n",
    "print(av_occ)\n",
    "\n",
    "stdev_list = []\n",
    "for part in final_list:\n",
    "  squared = (part - av_occ)**2\n",
    "  stdev_list.append(squared)\n",
    "print(stdev_list)\n",
    "\n",
    "stdev = (sum(stdev_list)/len(stdev_list))*0.5\n",
    "print(stdev)"
   ]
  },
  {
   "cell_type": "code",
   "execution_count": 6,
   "metadata": {},
   "outputs": [
    {
     "data": {
      "text/plain": [
       "3.197221015541813"
      ]
     },
     "execution_count": 6,
     "metadata": {},
     "output_type": "execute_result"
    }
   ],
   "source": [
    "import numpy as np\n",
    "\n",
    "np.std(final_list)\n",
    "\n",
    "#again, I guess it's much better to do the stdev using the numpy, otherwise I'm always getting wrong!"
   ]
  }
 ],
 "metadata": {
  "kernelspec": {
   "display_name": "Python 3",
   "language": "python",
   "name": "python3"
  },
  "language_info": {
   "codemirror_mode": {
    "name": "ipython",
    "version": 3
   },
   "file_extension": ".py",
   "mimetype": "text/x-python",
   "name": "python",
   "nbconvert_exporter": "python",
   "pygments_lexer": "ipython3",
   "version": "3.7.6"
  }
 },
 "nbformat": 4,
 "nbformat_minor": 4
}
